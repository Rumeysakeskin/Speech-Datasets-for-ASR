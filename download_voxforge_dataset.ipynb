{
 "cells": [
  {
   "cell_type": "code",
   "execution_count": 5,
   "metadata": {},
   "outputs": [
    {
     "name": "stdout",
     "output_type": "stream",
     "text": [
      "Requirement already satisfied: django in /opt/conda/envs/brain4x/lib/python3.9/site-packages (4.1.4)\n",
      "Requirement already satisfied: asgiref<4,>=3.5.2 in /opt/conda/envs/brain4x/lib/python3.9/site-packages (from django) (3.6.0)\n",
      "Requirement already satisfied: sqlparse>=0.2.2 in /opt/conda/envs/brain4x/lib/python3.9/site-packages (from django) (0.4.3)\n",
      "\u001b[33mWARNING: Running pip as root will break packages and permissions. You should install packages reliably by using venv: https://pip.pypa.io/warnings/venv\u001b[0m\n",
      "Collecting install\n",
      "  Downloading install-1.3.5-py3-none-any.whl (3.2 kB)\n",
      "Requirement already satisfied: sox in /opt/conda/envs/brain4x/lib/python3.9/site-packages (1.4.1)\n",
      "Requirement already satisfied: numpy>=1.9.0 in /opt/conda/envs/brain4x/lib/python3.9/site-packages (from sox) (1.20.3)\n",
      "Installing collected packages: install\n",
      "Successfully installed install-1.3.5\n",
      "\u001b[33mWARNING: Running pip as root will break packages and permissions. You should install packages reliably by using venv: https://pip.pypa.io/warnings/venv\u001b[0m\n"
     ]
    }
   ],
   "source": [
    "!pip install django\n",
    "!pip install install sox"
   ]
  },
  {
   "cell_type": "code",
   "execution_count": 8,
   "metadata": {},
   "outputs": [],
   "source": [
    "from django.urls import path\n",
    "import os\n",
    "from six.moves import urllib\n",
    "import argparse\n",
    "import re\n",
    "import tempfile\n",
    "import shutil\n",
    "import subprocess\n",
    "import tarfile\n",
    "import io\n",
    "from tqdm import tqdm\n",
    "from typing import Optional\n",
    "\n",
    "from __future__ import print_function\n",
    "\n",
    "import json\n",
    "from multiprocessing import Pool\n",
    "from pathlib import Path\n",
    "from typing import Optional\n",
    "\n",
    "import sox\n",
    "from tqdm import tqdm"
   ]
  },
  {
   "cell_type": "code",
   "execution_count": 9,
   "metadata": {},
   "outputs": [],
   "source": [
    "def add_data_opts(parser):\n",
    "    data_opts = parser.add_argument_group(\"General Data Options\")\n",
    "    data_opts.add_argument('--manifest-dir', default='./', type=str,\n",
    "                           help='Output directory for manifests')\n",
    "    data_opts.add_argument('--min-duration', default=1, type=int,\n",
    "                           help='Prunes training samples shorter than the min duration (given in seconds, default 1)')\n",
    "    data_opts.add_argument('--max-duration', default=15, type=int,\n",
    "                           help='Prunes training samples longer than the max duration (given in seconds, default 15)')\n",
    "    parser.add_argument('--num-workers', default=4, type=int, help='Number of workers for processing data.')\n",
    "    parser.add_argument('--sample-rate', default=16000, type=int, help='Sample rate')\n",
    "    return parser\n",
    "def create_manifest(\n",
    "        data_path: str,\n",
    "        output_name: str,\n",
    "        manifest_path: str,\n",
    "        num_workers: int,\n",
    "        min_duration: Optional[float] = None,\n",
    "        max_duration: Optional[float] = None,\n",
    "        file_extension: str = \"wav\"):\n",
    "    data_path = os.path.abspath(data_path)\n",
    "    file_paths = list(Path(data_path).rglob(f\"*.{file_extension}\"))\n",
    "    file_paths = order_and_prune_files(\n",
    "        file_paths=file_paths,\n",
    "        min_duration=min_duration,\n",
    "        max_duration=max_duration,\n",
    "        num_workers=num_workers\n",
    "    )\n",
    "    output_path = Path(manifest_path) / output_name\n",
    "    output_path.parent.mkdir(exist_ok=True, parents=True)\n",
    "\n",
    "    manifest = {\n",
    "        'root_path': data_path,\n",
    "        'samples': []\n",
    "    }\n",
    "    for wav_path in tqdm(file_paths, total=len(file_paths)):\n",
    "        wav_path = wav_path.relative_to(data_path)\n",
    "        transcript_path = wav_path.parent.with_name(\"txt\") / wav_path.with_suffix(\".txt\").name\n",
    "        manifest['samples'].append({\n",
    "            'wav_path': wav_path.as_posix(),\n",
    "            'transcript_path': transcript_path.as_posix()\n",
    "        })\n",
    "\n",
    "    output_path.write_text(json.dumps(manifest), encoding='utf8')\n",
    "\n",
    "def _duration_file_path(path):\n",
    "    return path, sox.file_info.duration(path)\n",
    "\n",
    "\n",
    "def order_and_prune_files(\n",
    "        file_paths,\n",
    "        min_duration,\n",
    "        max_duration,\n",
    "        num_workers):\n",
    "    print(\"Gathering durations...\")\n",
    "    with Pool(processes=num_workers) as p:\n",
    "        duration_file_paths = list(tqdm(p.imap(_duration_file_path, file_paths), total=len(file_paths)))\n",
    "    print(\"Sorting manifests...\")\n",
    "    if min_duration and max_duration:\n",
    "        print(\"Pruning manifests between %d and %d seconds\" % (min_duration, max_duration))\n",
    "        duration_file_paths = [(path, duration) for path, duration in duration_file_paths if\n",
    "                               min_duration <= duration <= max_duration]\n",
    "\n",
    "    total_duration = sum([x[1] for x in duration_file_paths])\n",
    "    print(f\"Total duration of split: {total_duration:.4f}s\")\n",
    "    return [x[0] for x in duration_file_paths]  # Remove durations"
   ]
  },
  {
   "cell_type": "code",
   "execution_count": 10,
   "metadata": {},
   "outputs": [],
   "source": [
    "VOXFORGE_URL_16kHz = 'http://www.repository.voxforge1.org/downloads/tr/Trunk/Audio/Main/16kHz_16bit/'\n",
    "\n",
    "parser = argparse.ArgumentParser(description='Processes and downloads VoxForge dataset.')\n",
    "parser = add_data_opts(parser)\n",
    "parser.add_argument(\"--target-dir\", default='voxforge_dataset/', type=str, help=\"Directory to store the dataset.\")\n",
    "# args = parser.parse_args()\n",
    "args, unknown = parser.parse_known_args()"
   ]
  },
  {
   "cell_type": "code",
   "execution_count": 11,
   "metadata": {},
   "outputs": [],
   "source": [
    "def _get_recordings_dir(sample_dir, recording_name):\n",
    "    wav_dir = os.path.join(sample_dir, recording_name, \"wav\")\n",
    "    if os.path.exists(wav_dir):\n",
    "        return \"wav\", wav_dir\n",
    "    flac_dir = os.path.join(sample_dir, recording_name, \"flac\")\n",
    "    if os.path.exists(flac_dir):\n",
    "        return \"flac\", flac_dir\n",
    "    raise Exception(\"wav or flac directory was not found for recording name: {}\".format(recording_name))"
   ]
  },
  {
   "cell_type": "code",
   "execution_count": 12,
   "metadata": {},
   "outputs": [],
   "source": [
    "def prepare_sample(recording_name, url, target_folder):\n",
    "    \"\"\"\n",
    "    Downloads and extracts a sample from VoxForge and puts the wav and txt files into :target_folder.\n",
    "    \"\"\"\n",
    "    wav_dir = os.path.join(target_folder, \"wav\")\n",
    "    if not os.path.exists(wav_dir):\n",
    "        os.makedirs(wav_dir)\n",
    "    txt_dir = os.path.join(target_folder, \"txt\")\n",
    "    if not os.path.exists(txt_dir):\n",
    "        os.makedirs(txt_dir)\n",
    "    # check if sample is processed\n",
    "    filename_set = set(['_'.join(wav_file.split('_')[:-1]) for wav_file in os.listdir(wav_dir)])\n",
    "    if recording_name in filename_set:\n",
    "        return\n",
    "\n",
    "    request = urllib.request.Request(url)\n",
    "    response = urllib.request.urlopen(request)\n",
    "    content = response.read()\n",
    "    response.close()\n",
    "    with tempfile.NamedTemporaryFile(suffix=\".tgz\", mode='wb') as target_tgz:\n",
    "        target_tgz.write(content)\n",
    "        target_tgz.flush()\n",
    "        dirpath = tempfile.mkdtemp()\n",
    "\n",
    "        tar = tarfile.open(target_tgz.name)\n",
    "        tar.extractall(dirpath)\n",
    "        tar.close()\n",
    "\n",
    "        recordings_type, recordings_dir = _get_recordings_dir(dirpath, recording_name)\n",
    "        tgz_prompt_file = os.path.join(dirpath, recording_name, \"etc\", \"PROMPTS\")\n",
    "\n",
    "        if os.path.exists(recordings_dir) and os.path.exists(tgz_prompt_file):\n",
    "            transcriptions = open(tgz_prompt_file).read().strip().split(\"\\n\")\n",
    "            transcriptions = {t.split()[0]: \" \".join(t.split()[1:]) for t in transcriptions}\n",
    "            for wav_file in os.listdir(recordings_dir):\n",
    "                recording_id = wav_file.split('.{}'.format(recordings_type))[0]\n",
    "                \n",
    "                transcription_key = recording_name + \"/mfc/\" + recording_id\n",
    "            \n",
    "                if transcription_key not in transcriptions:\n",
    "                    continue\n",
    "                utterance = transcriptions[transcription_key]\n",
    "\n",
    "                target_wav_file = os.path.join(wav_dir, \"{}_{}.wav\".format(recording_name, recording_id))\n",
    "          \n",
    "                \n",
    "                target_txt_file = os.path.join(txt_dir, \"{}_{}.txt\".format(recording_name, recording_id))\n",
    "              \n",
    "                with io.FileIO(target_txt_file, \"w\") as file:\n",
    "                    file.write(utterance.encode('utf-8'))\n",
    "                original_wav_file = os.path.join(recordings_dir, wav_file)   \n",
    "                shutil.copyfile(original_wav_file, target_wav_file)\n",
    "        shutil.rmtree(dirpath)"
   ]
  },
  {
   "cell_type": "code",
   "execution_count": 13,
   "metadata": {},
   "outputs": [
    {
     "name": "stderr",
     "output_type": "stream",
     "text": [
      "100%|██████████| 173/173 [03:26<00:00,  1.19s/it]\n"
     ]
    }
   ],
   "source": [
    "if __name__ == '__main__':\n",
    "    target_dir = args.target_dir\n",
    "    sample_rate = args.sample_rate\n",
    "\n",
    "    if not os.path.isdir(target_dir):\n",
    "        os.makedirs(target_dir)\n",
    "    request = urllib.request.Request(VOXFORGE_URL_16kHz)\n",
    "    response = urllib.request.urlopen(request)\n",
    "    content = response.read()\n",
    "    all_files = re.findall(\"href\\=\\\"(.*\\.tgz)\\\"\", content.decode(\"utf-8\"))\n",
    "    for f in tqdm(all_files, total=len(all_files)):\n",
    "        prepare_sample(f.replace(\".tgz\", \"\"), VOXFORGE_URL_16kHz + f, target_dir)\n",
    "   "
   ]
  },
  {
   "cell_type": "code",
   "execution_count": 17,
   "metadata": {},
   "outputs": [
    {
     "name": "stdout",
     "output_type": "stream",
     "text": [
      "Creating manifests...\n",
      "Gathering durations...\n"
     ]
    },
    {
     "name": "stderr",
     "output_type": "stream",
     "text": [
      "  0%|          | 0/1717 [00:00<?, ?it/s]This install of SoX cannot process .wav files.\n",
      "This install of SoX cannot process .wav files.\n",
      "This install of SoX cannot process .wav files.\n",
      "This install of SoX cannot process .wav files.\n",
      "  0%|          | 0/1717 [00:00<?, ?it/s]This install of SoX cannot process .wav files.\n",
      "This install of SoX cannot process .wav files.\n",
      "This install of SoX cannot process .wav files.\n",
      "This install of SoX cannot process .wav files.\n",
      "\n"
     ]
    },
    {
     "ename": "FileNotFoundError",
     "evalue": "[Errno 2] No such file or directory: 'sox'",
     "output_type": "error",
     "traceback": [
      "\u001b[0;31m---------------------------------------------------------------------------\u001b[0m",
      "\u001b[0;31mRemoteTraceback\u001b[0m                           Traceback (most recent call last)",
      "\u001b[0;31mRemoteTraceback\u001b[0m: \n\"\"\"\nTraceback (most recent call last):\n  File \"/opt/conda/envs/brain4x/lib/python3.9/multiprocessing/pool.py\", line 125, in worker\n    result = (True, func(*args, **kwds))\n  File \"<ipython-input-9-252d64f528cf>\", line 46, in _duration_file_path\n    return path, sox.file_info.duration(path)\n  File \"/opt/conda/envs/brain4x/lib/python3.9/site-packages/sox/file_info.py\", line 122, in duration\n    output = soxi(input_filepath, 'D')\n  File \"/opt/conda/envs/brain4x/lib/python3.9/site-packages/sox/core.py\", line 147, in soxi\n    shell_output = subprocess.check_output(\n  File \"/opt/conda/envs/brain4x/lib/python3.9/subprocess.py\", line 424, in check_output\n    return run(*popenargs, stdout=PIPE, timeout=timeout, check=True,\n  File \"/opt/conda/envs/brain4x/lib/python3.9/subprocess.py\", line 505, in run\n    with Popen(*popenargs, **kwargs) as process:\n  File \"/opt/conda/envs/brain4x/lib/python3.9/subprocess.py\", line 951, in __init__\n    self._execute_child(args, executable, preexec_fn, close_fds,\n  File \"/opt/conda/envs/brain4x/lib/python3.9/subprocess.py\", line 1821, in _execute_child\n    raise child_exception_type(errno_num, err_msg, err_filename)\nFileNotFoundError: [Errno 2] No such file or directory: 'sox'\n\"\"\"",
      "\nThe above exception was the direct cause of the following exception:\n",
      "\u001b[0;31mFileNotFoundError\u001b[0m                         Traceback (most recent call last)",
      "\u001b[0;32m<ipython-input-17-8525311dd94c>\u001b[0m in \u001b[0;36m<module>\u001b[0;34m\u001b[0m\n\u001b[1;32m      2\u001b[0m \u001b[0;34m\u001b[0m\u001b[0m\n\u001b[1;32m      3\u001b[0m \u001b[0mprint\u001b[0m\u001b[0;34m(\u001b[0m\u001b[0;34m'Creating manifests...'\u001b[0m\u001b[0;34m)\u001b[0m\u001b[0;34m\u001b[0m\u001b[0;34m\u001b[0m\u001b[0m\n\u001b[0;32m----> 4\u001b[0;31m create_manifest(\n\u001b[0m\u001b[1;32m      5\u001b[0m     \u001b[0mdata_path\u001b[0m\u001b[0;34m=\u001b[0m\u001b[0mtarget_dir\u001b[0m\u001b[0;34m,\u001b[0m\u001b[0;34m\u001b[0m\u001b[0;34m\u001b[0m\u001b[0m\n\u001b[1;32m      6\u001b[0m     \u001b[0moutput_name\u001b[0m\u001b[0;34m=\u001b[0m\u001b[0;34m'voxforge_train_manifest.json'\u001b[0m\u001b[0;34m,\u001b[0m\u001b[0;34m\u001b[0m\u001b[0;34m\u001b[0m\u001b[0m\n",
      "\u001b[0;32m<ipython-input-9-252d64f528cf>\u001b[0m in \u001b[0;36mcreate_manifest\u001b[0;34m(data_path, output_name, manifest_path, num_workers, min_duration, max_duration, file_extension)\u001b[0m\n\u001b[1;32m     20\u001b[0m     \u001b[0mdata_path\u001b[0m \u001b[0;34m=\u001b[0m \u001b[0mos\u001b[0m\u001b[0;34m.\u001b[0m\u001b[0mpath\u001b[0m\u001b[0;34m.\u001b[0m\u001b[0mabspath\u001b[0m\u001b[0;34m(\u001b[0m\u001b[0mdata_path\u001b[0m\u001b[0;34m)\u001b[0m\u001b[0;34m\u001b[0m\u001b[0;34m\u001b[0m\u001b[0m\n\u001b[1;32m     21\u001b[0m     \u001b[0mfile_paths\u001b[0m \u001b[0;34m=\u001b[0m \u001b[0mlist\u001b[0m\u001b[0;34m(\u001b[0m\u001b[0mPath\u001b[0m\u001b[0;34m(\u001b[0m\u001b[0mdata_path\u001b[0m\u001b[0;34m)\u001b[0m\u001b[0;34m.\u001b[0m\u001b[0mrglob\u001b[0m\u001b[0;34m(\u001b[0m\u001b[0;34mf\"*.{file_extension}\"\u001b[0m\u001b[0;34m)\u001b[0m\u001b[0;34m)\u001b[0m\u001b[0;34m\u001b[0m\u001b[0;34m\u001b[0m\u001b[0m\n\u001b[0;32m---> 22\u001b[0;31m     file_paths = order_and_prune_files(\n\u001b[0m\u001b[1;32m     23\u001b[0m         \u001b[0mfile_paths\u001b[0m\u001b[0;34m=\u001b[0m\u001b[0mfile_paths\u001b[0m\u001b[0;34m,\u001b[0m\u001b[0;34m\u001b[0m\u001b[0;34m\u001b[0m\u001b[0m\n\u001b[1;32m     24\u001b[0m         \u001b[0mmin_duration\u001b[0m\u001b[0;34m=\u001b[0m\u001b[0mmin_duration\u001b[0m\u001b[0;34m,\u001b[0m\u001b[0;34m\u001b[0m\u001b[0;34m\u001b[0m\u001b[0m\n",
      "\u001b[0;32m<ipython-input-9-252d64f528cf>\u001b[0m in \u001b[0;36morder_and_prune_files\u001b[0;34m(file_paths, min_duration, max_duration, num_workers)\u001b[0m\n\u001b[1;32m     54\u001b[0m     \u001b[0mprint\u001b[0m\u001b[0;34m(\u001b[0m\u001b[0;34m\"Gathering durations...\"\u001b[0m\u001b[0;34m)\u001b[0m\u001b[0;34m\u001b[0m\u001b[0;34m\u001b[0m\u001b[0m\n\u001b[1;32m     55\u001b[0m     \u001b[0;32mwith\u001b[0m \u001b[0mPool\u001b[0m\u001b[0;34m(\u001b[0m\u001b[0mprocesses\u001b[0m\u001b[0;34m=\u001b[0m\u001b[0mnum_workers\u001b[0m\u001b[0;34m)\u001b[0m \u001b[0;32mas\u001b[0m \u001b[0mp\u001b[0m\u001b[0;34m:\u001b[0m\u001b[0;34m\u001b[0m\u001b[0;34m\u001b[0m\u001b[0m\n\u001b[0;32m---> 56\u001b[0;31m         \u001b[0mduration_file_paths\u001b[0m \u001b[0;34m=\u001b[0m \u001b[0mlist\u001b[0m\u001b[0;34m(\u001b[0m\u001b[0mtqdm\u001b[0m\u001b[0;34m(\u001b[0m\u001b[0mp\u001b[0m\u001b[0;34m.\u001b[0m\u001b[0mimap\u001b[0m\u001b[0;34m(\u001b[0m\u001b[0m_duration_file_path\u001b[0m\u001b[0;34m,\u001b[0m \u001b[0mfile_paths\u001b[0m\u001b[0;34m)\u001b[0m\u001b[0;34m,\u001b[0m \u001b[0mtotal\u001b[0m\u001b[0;34m=\u001b[0m\u001b[0mlen\u001b[0m\u001b[0;34m(\u001b[0m\u001b[0mfile_paths\u001b[0m\u001b[0;34m)\u001b[0m\u001b[0;34m)\u001b[0m\u001b[0;34m)\u001b[0m\u001b[0;34m\u001b[0m\u001b[0;34m\u001b[0m\u001b[0m\n\u001b[0m\u001b[1;32m     57\u001b[0m     \u001b[0mprint\u001b[0m\u001b[0;34m(\u001b[0m\u001b[0;34m\"Sorting manifests...\"\u001b[0m\u001b[0;34m)\u001b[0m\u001b[0;34m\u001b[0m\u001b[0;34m\u001b[0m\u001b[0m\n\u001b[1;32m     58\u001b[0m     \u001b[0;32mif\u001b[0m \u001b[0mmin_duration\u001b[0m \u001b[0;32mand\u001b[0m \u001b[0mmax_duration\u001b[0m\u001b[0;34m:\u001b[0m\u001b[0;34m\u001b[0m\u001b[0;34m\u001b[0m\u001b[0m\n",
      "\u001b[0;32m/opt/conda/envs/brain4x/lib/python3.9/site-packages/tqdm/std.py\u001b[0m in \u001b[0;36m__iter__\u001b[0;34m(self)\u001b[0m\n\u001b[1;32m   1176\u001b[0m \u001b[0;34m\u001b[0m\u001b[0m\n\u001b[1;32m   1177\u001b[0m         \u001b[0;32mtry\u001b[0m\u001b[0;34m:\u001b[0m\u001b[0;34m\u001b[0m\u001b[0;34m\u001b[0m\u001b[0m\n\u001b[0;32m-> 1178\u001b[0;31m             \u001b[0;32mfor\u001b[0m \u001b[0mobj\u001b[0m \u001b[0;32min\u001b[0m \u001b[0miterable\u001b[0m\u001b[0;34m:\u001b[0m\u001b[0;34m\u001b[0m\u001b[0;34m\u001b[0m\u001b[0m\n\u001b[0m\u001b[1;32m   1179\u001b[0m                 \u001b[0;32myield\u001b[0m \u001b[0mobj\u001b[0m\u001b[0;34m\u001b[0m\u001b[0;34m\u001b[0m\u001b[0m\n\u001b[1;32m   1180\u001b[0m                 \u001b[0;31m# Update and possibly print the progressbar.\u001b[0m\u001b[0;34m\u001b[0m\u001b[0;34m\u001b[0m\u001b[0;34m\u001b[0m\u001b[0m\n",
      "\u001b[0;32m/opt/conda/envs/brain4x/lib/python3.9/multiprocessing/pool.py\u001b[0m in \u001b[0;36mnext\u001b[0;34m(self, timeout)\u001b[0m\n\u001b[1;32m    868\u001b[0m         \u001b[0;32mif\u001b[0m \u001b[0msuccess\u001b[0m\u001b[0;34m:\u001b[0m\u001b[0;34m\u001b[0m\u001b[0;34m\u001b[0m\u001b[0m\n\u001b[1;32m    869\u001b[0m             \u001b[0;32mreturn\u001b[0m \u001b[0mvalue\u001b[0m\u001b[0;34m\u001b[0m\u001b[0;34m\u001b[0m\u001b[0m\n\u001b[0;32m--> 870\u001b[0;31m         \u001b[0;32mraise\u001b[0m \u001b[0mvalue\u001b[0m\u001b[0;34m\u001b[0m\u001b[0;34m\u001b[0m\u001b[0m\n\u001b[0m\u001b[1;32m    871\u001b[0m \u001b[0;34m\u001b[0m\u001b[0m\n\u001b[1;32m    872\u001b[0m     \u001b[0m__next__\u001b[0m \u001b[0;34m=\u001b[0m \u001b[0mnext\u001b[0m                    \u001b[0;31m# XXX\u001b[0m\u001b[0;34m\u001b[0m\u001b[0;34m\u001b[0m\u001b[0m\n",
      "\u001b[0;31mFileNotFoundError\u001b[0m: [Errno 2] No such file or directory: 'sox'"
     ]
    }
   ],
   "source": [
    "\n",
    "from fastai.imports import *\n",
    "\n",
    "print('Creating manifests...')\n",
    "create_manifest(\n",
    "    data_path=target_dir,\n",
    "    output_name='voxforge_train_manifest.json',\n",
    "    manifest_path=args.manifest_dir,\n",
    "    min_duration=args.min_duration,\n",
    "    max_duration=args.max_duration,\n",
    "    num_workers=args.num_workers\n",
    ")"
   ]
  },
  {
   "cell_type": "code",
   "execution_count": null,
   "metadata": {},
   "outputs": [],
   "source": []
  }
 ],
 "metadata": {
  "kernelspec": {
   "display_name": "brain4x",
   "language": "python",
   "name": "brain4x"
  },
  "language_info": {
   "codemirror_mode": {
    "name": "ipython",
    "version": 3
   },
   "file_extension": ".py",
   "mimetype": "text/x-python",
   "name": "python",
   "nbconvert_exporter": "python",
   "pygments_lexer": "ipython3",
   "version": "3.9.5"
  }
 },
 "nbformat": 4,
 "nbformat_minor": 2
}
